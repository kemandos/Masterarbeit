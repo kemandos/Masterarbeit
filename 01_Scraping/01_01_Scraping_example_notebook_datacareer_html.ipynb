{
 "cells": [
  {
   "cell_type": "code",
   "execution_count": 2,
   "metadata": {},
   "outputs": [],
   "source": [
    "from bs4 import BeautifulSoup\n",
    "import requests\n",
    "import pandas as pd\n",
    "import time\n",
    "from random import randint\n",
    "from tqdm import tqdm_notebook\n",
    "import numpy as np\n"
   ]
  },
  {
   "cell_type": "code",
   "execution_count": 2,
   "metadata": {},
   "outputs": [
    {
     "name": "stdout",
     "output_type": "stream",
     "text": [
      "14 search urls created\n"
     ]
    }
   ],
   "source": [
    "# This code creates a list of search URLs to scrape data from a website.\n",
    "\n",
    "# The template variable contains the URL of the website to be scraped. The base_url variable contains the template variable plus the string '&p=' which will be replaced by the page number.\n",
    "\n",
    "# The for loop iterates through the range of numbers from 1 to 15 (page_numbers variable) and replaces the '&p=' string in the base_url variable with the page number. This new URL is then appended to the search_urls list.\n",
    "\n",
    "# The len() function is then used to print the number of URLs in the search_urls list.\n",
    "\n",
    "\n",
    "\n",
    "search_urls = []\n",
    "page_numbers = 15\n",
    "template = 'https://www.datacareer.de/jobs/?q=data&l=&locale=de'\n",
    "base_url = template\n",
    "headers = {'User-Agent' : 'Mozilla/5.0 (Windows NT 10.0; Win64; x64) AppleWebKit/537.36 (KHTML, like Gecko) Chrome/96.0.4664.110 Safari/537.36'}\n",
    "for page in range(1,page_numbers,1):\n",
    "    search_url = f'{base_url}&p={page}'\n",
    "    search_urls.append(search_url)\n",
    "print(F'{len(search_urls)} search urls created')\n"
   ]
  },
  {
   "cell_type": "code",
   "execution_count": 3,
   "metadata": {},
   "outputs": [
    {
     "name": "stderr",
     "output_type": "stream",
     "text": [
      "C:\\Users\\ALEKSE~1\\AppData\\Local\\Temp/ipykernel_4240/235163397.py:3: TqdmDeprecationWarning: This function will be removed in tqdm==5.0.0\n",
      "Please use `tqdm.notebook.tqdm` instead of `tqdm.tqdm_notebook`\n",
      "  for url in tqdm_notebook(data):\n"
     ]
    },
    {
     "data": {
      "application/vnd.jupyter.widget-view+json": {
       "model_id": "1b67535448f7492b8a4bcdd4a116b0c5",
       "version_major": 2,
       "version_minor": 0
      },
      "text/plain": [
       "  0%|          | 0/14 [00:00<?, ?it/s]"
      ]
     },
     "metadata": {},
     "output_type": "display_data"
    }
   ],
   "source": [
    "#This is a function that takes in a list of data (search_urls), and returns a list of links.\n",
    "#The function first creates an empty list called links.\n",
    "#Then, for each url in the list of data, it makes a GET request.\n",
    "#It parses the content of the response using BeautifulSoup, looking specifically for div tags with the class 'media-heading listing-item__title'.\n",
    "#Then, it sleeps for a random amount of time between 1 and 5 seconds.\n",
    "#For each job that it finds, it extracts the link associated with that job.\n",
    "#Then, it appends the link to the list of links, and sleeps for another random amount of time between 1 and 5 seconds.\n",
    "#Finally, it returns the list of links.\n",
    "\n",
    "\n",
    "\n",
    "def get_job_links(data):\n",
    "    links = []\n",
    "    for url in tqdm_notebook(data):\n",
    "        r=requests.get(url)\n",
    "        soup=BeautifulSoup(r.content,'lxml')\n",
    "        jobs = soup.find_all('div', class_ = 'media-heading listing-item__title')\n",
    "        time.sleep(randint(1,5))\n",
    "        for i in jobs:\n",
    "            link = i.find('a',href=True)\n",
    "            link = link['href']\n",
    "            final_link = link\n",
    "            links.append(final_link)\n",
    "            time.sleep(randint(1,5))\n",
    "    return links\n",
    "links = get_job_links(search_urls)"
   ]
  },
  {
   "cell_type": "code",
   "execution_count": 4,
   "metadata": {},
   "outputs": [
    {
     "name": "stdout",
     "output_type": "stream",
     "text": [
      "180 links found\n",
      "Exemples ['https://www.datacareer.de/job/10351/chief-data-governance-officer-m-w-d-master-data-management/', 'https://www.datacareer.de/job/10267/data-analyst-m-w-d/', 'https://www.datacareer.de/job/10276/business-data-analyst-level-1-m-f-d/', 'https://www.datacareer.de/job/10392/data-analyst-m-f-d/']\n"
     ]
    }
   ],
   "source": [
    "# This code is creating a list of links from a set of links. A set is a data structure that contains unique elements.\n",
    "# A list is a data structure that contains a sequence of elements. The code is printing the length of the list and the first four elements of the list.\n",
    "\n",
    "\n",
    "links = set(links)\n",
    "links = list(links)\n",
    "print(F'{len(links)} links found')\n",
    "print(F'Exemples {links[:4]}')"
   ]
  },
  {
   "cell_type": "code",
   "execution_count": 5,
   "metadata": {},
   "outputs": [
    {
     "name": "stderr",
     "output_type": "stream",
     "text": [
      "C:\\Users\\ALEKSE~1\\AppData\\Local\\Temp/ipykernel_4240/811839565.py:3: TqdmDeprecationWarning: This function will be removed in tqdm==5.0.0\n",
      "Please use `tqdm.notebook.tqdm` instead of `tqdm.tqdm_notebook`\n",
      "  for link in tqdm_notebook(input):\n"
     ]
    },
    {
     "data": {
      "application/vnd.jupyter.widget-view+json": {
       "model_id": "5dcc8ca1b64b4b6593a48d6430647c00",
       "version_major": 2,
       "version_minor": 0
      },
      "text/plain": [
       "  0%|          | 0/180 [00:00<?, ?it/s]"
      ]
     },
     "metadata": {},
     "output_type": "display_data"
    },
    {
     "data": {
      "text/html": [
       "<div>\n",
       "<style scoped>\n",
       "    .dataframe tbody tr th:only-of-type {\n",
       "        vertical-align: middle;\n",
       "    }\n",
       "\n",
       "    .dataframe tbody tr th {\n",
       "        vertical-align: top;\n",
       "    }\n",
       "\n",
       "    .dataframe thead th {\n",
       "        text-align: right;\n",
       "    }\n",
       "</style>\n",
       "<table border=\"1\" class=\"dataframe\">\n",
       "  <thead>\n",
       "    <tr style=\"text-align: right;\">\n",
       "      <th></th>\n",
       "      <th>jobTitel</th>\n",
       "      <th>Company</th>\n",
       "      <th>Location</th>\n",
       "      <th>jobDescription</th>\n",
       "      <th>postDate</th>\n",
       "    </tr>\n",
       "  </thead>\n",
       "  <tbody>\n",
       "    <tr>\n",
       "      <th>0</th>\n",
       "      <td>(Chief) Data Governance Officer (m/w/d) - Mast...</td>\n",
       "      <td>ROSEN</td>\n",
       "      <td>Lingen, Germany</td>\n",
       "      <td>Am Standort in Lingen (Ems) oder Osnabrück suc...</td>\n",
       "      <td>23/05/2022</td>\n",
       "    </tr>\n",
       "    <tr>\n",
       "      <th>1</th>\n",
       "      <td>Data Analyst (m/w/d)</td>\n",
       "      <td>BD</td>\n",
       "      <td>Kelberg, Germany</td>\n",
       "      <td>Job Description Summary\\r\\nBD Rowa stands for ...</td>\n",
       "      <td>04/05/2022</td>\n",
       "    </tr>\n",
       "    <tr>\n",
       "      <th>2</th>\n",
       "      <td>Business Data Analyst – Level 1 (m/f/d)</td>\n",
       "      <td>ICE International Copyright Enterprise Germany...</td>\n",
       "      <td>Berlin, Germany</td>\n",
       "      <td>Job Description\\n\\n\\nemployment type\\nfull tim...</td>\n",
       "      <td>06/05/2022</td>\n",
       "    </tr>\n",
       "    <tr>\n",
       "      <th>3</th>\n",
       "      <td>Data Analyst (m/f/d)</td>\n",
       "      <td>Arvato infoscore GmbH</td>\n",
       "      <td>Extersche Straße 33415, Bad Salzuflen, Germany</td>\n",
       "      <td>Job Description\\n\\n\\nemployment type\\nfull tim...</td>\n",
       "      <td>30/05/2022</td>\n",
       "    </tr>\n",
       "    <tr>\n",
       "      <th>4</th>\n",
       "      <td>Business Analyst / Data Scientist (m/w/d)</td>\n",
       "      <td>FUNKE MEDIENGRUPPE</td>\n",
       "      <td>Essen, Germany</td>\n",
       "      <td>Job Description\\n\\n\\nemployment type\\nfull tim...</td>\n",
       "      <td>09/05/2022</td>\n",
       "    </tr>\n",
       "  </tbody>\n",
       "</table>\n",
       "</div>"
      ],
      "text/plain": [
       "                                            jobTitel  \\\n",
       "0  (Chief) Data Governance Officer (m/w/d) - Mast...   \n",
       "1                               Data Analyst (m/w/d)   \n",
       "2            Business Data Analyst – Level 1 (m/f/d)   \n",
       "3                               Data Analyst (m/f/d)   \n",
       "4          Business Analyst / Data Scientist (m/w/d)   \n",
       "\n",
       "                                             Company  \\\n",
       "0                                              ROSEN   \n",
       "1                                                 BD   \n",
       "2  ICE International Copyright Enterprise Germany...   \n",
       "3                              Arvato infoscore GmbH   \n",
       "4                                 FUNKE MEDIENGRUPPE   \n",
       "\n",
       "                                         Location  \\\n",
       "0                                 Lingen, Germany   \n",
       "1                                Kelberg, Germany   \n",
       "2                                 Berlin, Germany   \n",
       "3  Extersche Straße 33415, Bad Salzuflen, Germany   \n",
       "4                                  Essen, Germany   \n",
       "\n",
       "                                      jobDescription    postDate  \n",
       "0  Am Standort in Lingen (Ems) oder Osnabrück suc...  23/05/2022  \n",
       "1  Job Description Summary\\r\\nBD Rowa stands for ...  04/05/2022  \n",
       "2  Job Description\\n\\n\\nemployment type\\nfull tim...  06/05/2022  \n",
       "3  Job Description\\n\\n\\nemployment type\\nfull tim...  30/05/2022  \n",
       "4  Job Description\\n\\n\\nemployment type\\nfull tim...  09/05/2022  "
      ]
     },
     "execution_count": 5,
     "metadata": {},
     "output_type": "execute_result"
    }
   ],
   "source": [
    "# The code is written in Python and uses the BeautifulSoup and tqdm_notebook libraries.\n",
    "\n",
    "# The code defines a function called parsing_jobs_html that takes a list of links as input.\n",
    "\n",
    "# For each link in the list of links, the code makes an HTTP GET request to the link.\n",
    "\n",
    "# The code then parses the HTML content of the response using the BeautifulSoup library.\n",
    "\n",
    "# The code then extracts information about the job (e.g. job title, company, location, etc.) from the parsed HTML content and stores it in a dictionary.\n",
    "\n",
    "# The code then appends the dictionary to a list.\n",
    "\n",
    "# The code returns the list of dictionaries.\n",
    "\n",
    "# The code then creates a pandas DataFrame from the list of dictionaries.\n",
    "\n",
    "\n",
    "\n",
    "def parsing_jobs_html(input):\n",
    "    data = []\n",
    "    for link in tqdm_notebook(input):\n",
    "        r=requests.get(link)\n",
    "        soup=BeautifulSoup(r.content,'lxml')\n",
    "        jobs = soup.find_all('div', class_ = 'listing-results')\n",
    "        for job in jobs:\n",
    "            jobTitel = job.find('h1').text.strip()\n",
    "            Company = job.find('li', class_ = 'listing-item__info--item-company').text.strip()\n",
    "            Location = job.find('li', class_ = 'listing-item__info--item-location').text.strip()\n",
    "            postDate = job.find('li', class_ = 'listing-item__info--item-date').text.strip()\n",
    "            jobDescription =job.find('div', class_ = 'details-body__content').text.strip()\n",
    "            dic = {'jobTitel':jobTitel, 'Company':Company, 'Location':Location, 'jobDescription':jobDescription,'postDate':postDate}\n",
    "            data.append(dic)\n",
    "            time.sleep(20)\n",
    "    return data\n",
    "example_html_parsing = parsing_jobs_html(links)\n",
    "df_parsing_jobs_html = pd.DataFrame(example_html_parsing)\n",
    "df_parsing_jobs_html.head(5)"
   ]
  },
  {
   "cell_type": "code",
   "execution_count": 6,
   "metadata": {},
   "outputs": [
    {
     "data": {
      "text/html": [
       "<div>\n",
       "<style scoped>\n",
       "    .dataframe tbody tr th:only-of-type {\n",
       "        vertical-align: middle;\n",
       "    }\n",
       "\n",
       "    .dataframe tbody tr th {\n",
       "        vertical-align: top;\n",
       "    }\n",
       "\n",
       "    .dataframe thead th {\n",
       "        text-align: right;\n",
       "    }\n",
       "</style>\n",
       "<table border=\"1\" class=\"dataframe\">\n",
       "  <thead>\n",
       "    <tr style=\"text-align: right;\">\n",
       "      <th></th>\n",
       "      <th>jobTitel</th>\n",
       "      <th>Company</th>\n",
       "      <th>Location</th>\n",
       "      <th>jobDescription</th>\n",
       "      <th>postDate</th>\n",
       "    </tr>\n",
       "  </thead>\n",
       "  <tbody>\n",
       "    <tr>\n",
       "      <th>0</th>\n",
       "      <td>(Chief) Data Governance Officer (m/w/d) - Mast...</td>\n",
       "      <td>ROSEN</td>\n",
       "      <td>Lingen, Germany</td>\n",
       "      <td>Am Standort in Lingen (Ems) oder Osnabrück suc...</td>\n",
       "      <td>23/05/2022</td>\n",
       "    </tr>\n",
       "    <tr>\n",
       "      <th>1</th>\n",
       "      <td>Data Analyst (m/w/d)</td>\n",
       "      <td>BD</td>\n",
       "      <td>Kelberg, Germany</td>\n",
       "      <td>Job Description Summary\\r\\nBD Rowa stands for ...</td>\n",
       "      <td>04/05/2022</td>\n",
       "    </tr>\n",
       "    <tr>\n",
       "      <th>2</th>\n",
       "      <td>Business Data Analyst – Level 1 (m/f/d)</td>\n",
       "      <td>ICE International Copyright Enterprise Germany...</td>\n",
       "      <td>Berlin, Germany</td>\n",
       "      <td>Job Description\\n\\n\\nemployment type\\nfull tim...</td>\n",
       "      <td>06/05/2022</td>\n",
       "    </tr>\n",
       "    <tr>\n",
       "      <th>3</th>\n",
       "      <td>Data Analyst (m/f/d)</td>\n",
       "      <td>Arvato infoscore GmbH</td>\n",
       "      <td>Extersche Straße 33415, Bad Salzuflen, Germany</td>\n",
       "      <td>Job Description\\n\\n\\nemployment type\\nfull tim...</td>\n",
       "      <td>30/05/2022</td>\n",
       "    </tr>\n",
       "    <tr>\n",
       "      <th>4</th>\n",
       "      <td>Business Analyst / Data Scientist (m/w/d)</td>\n",
       "      <td>FUNKE MEDIENGRUPPE</td>\n",
       "      <td>Essen, Germany</td>\n",
       "      <td>Job Description\\n\\n\\nemployment type\\nfull tim...</td>\n",
       "      <td>09/05/2022</td>\n",
       "    </tr>\n",
       "  </tbody>\n",
       "</table>\n",
       "</div>"
      ],
      "text/plain": [
       "                                            jobTitel  \\\n",
       "0  (Chief) Data Governance Officer (m/w/d) - Mast...   \n",
       "1                               Data Analyst (m/w/d)   \n",
       "2            Business Data Analyst – Level 1 (m/f/d)   \n",
       "3                               Data Analyst (m/f/d)   \n",
       "4          Business Analyst / Data Scientist (m/w/d)   \n",
       "\n",
       "                                             Company  \\\n",
       "0                                              ROSEN   \n",
       "1                                                 BD   \n",
       "2  ICE International Copyright Enterprise Germany...   \n",
       "3                              Arvato infoscore GmbH   \n",
       "4                                 FUNKE MEDIENGRUPPE   \n",
       "\n",
       "                                         Location  \\\n",
       "0                                 Lingen, Germany   \n",
       "1                                Kelberg, Germany   \n",
       "2                                 Berlin, Germany   \n",
       "3  Extersche Straße 33415, Bad Salzuflen, Germany   \n",
       "4                                  Essen, Germany   \n",
       "\n",
       "                                      jobDescription    postDate  \n",
       "0  Am Standort in Lingen (Ems) oder Osnabrück suc...  23/05/2022  \n",
       "1  Job Description Summary\\r\\nBD Rowa stands for ...  04/05/2022  \n",
       "2  Job Description\\n\\n\\nemployment type\\nfull tim...  06/05/2022  \n",
       "3  Job Description\\n\\n\\nemployment type\\nfull tim...  30/05/2022  \n",
       "4  Job Description\\n\\n\\nemployment type\\nfull tim...  09/05/2022  "
      ]
     },
     "execution_count": 6,
     "metadata": {},
     "output_type": "execute_result"
    }
   ],
   "source": [
    "df_parsing_jobs_html.head(5)"
   ]
  },
  {
   "cell_type": "code",
   "execution_count": 7,
   "metadata": {},
   "outputs": [],
   "source": [
    "# This Code is is saving the resulting DataFrame to a CSV file.\n",
    "df_parsing_jobs_html.to_csv('C:/Users/Aleksej Aikov/Desktop/Enablement/Master/01_Scraping/Scraped data/website_1/jobs_website_1_raw.csv',index=False)\n"
   ]
  }
 ],
 "metadata": {
  "interpreter": {
   "hash": "a214e8e1c5ebb72ddec6f7a9c3c3b7f0b57b445dc73c48c5b4bfe8c1b1803437"
  },
  "kernelspec": {
   "display_name": "Python 3.9.7 ('base')",
   "language": "python",
   "name": "python3"
  },
  "language_info": {
   "codemirror_mode": {
    "name": "ipython",
    "version": 3
   },
   "file_extension": ".py",
   "mimetype": "text/x-python",
   "name": "python",
   "nbconvert_exporter": "python",
   "pygments_lexer": "ipython3",
   "version": "3.9.7"
  },
  "orig_nbformat": 4
 },
 "nbformat": 4,
 "nbformat_minor": 2
}
